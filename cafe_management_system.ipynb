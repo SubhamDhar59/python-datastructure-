{
  "nbformat": 4,
  "nbformat_minor": 0,
  "metadata": {
    "colab": {
      "provenance": [],
      "authorship_tag": "ABX9TyOTzCzPnvSmcYw+y5K1SudY",
      "include_colab_link": true
    },
    "kernelspec": {
      "name": "python3",
      "display_name": "Python 3"
    },
    "language_info": {
      "name": "python"
    }
  },
  "cells": [
    {
      "cell_type": "markdown",
      "metadata": {
        "id": "view-in-github",
        "colab_type": "text"
      },
      "source": [
        "<a href=\"https://colab.research.google.com/github/SubhamDhar59/python-datastructure-/blob/main/cafe_management_system.ipynb\" target=\"_parent\"><img src=\"https://colab.research.google.com/assets/colab-badge.svg\" alt=\"Open In Colab\"/></a>"
      ]
    },
    {
      "cell_type": "code",
      "execution_count": 63,
      "metadata": {
        "id": "J6Ov2zp3c1Au"
      },
      "outputs": [],
      "source": [
        "class cafe:\n",
        "    def __init__(self,menu):\n",
        "        self.menu=menu\n",
        "        self.order=[]\n",
        "    def get_order(self):\n",
        "        order=input(\"enter your order(enter 'done'when done):\")\n",
        "        while  order.lower()==\"done\":\n",
        "           break\n",
        "        else:\n",
        "            orders = [item.strip() for item in order.split(',')]\n",
        "            for item in orders:\n",
        "                if item in self.menu:\n",
        "                    self.order.append(item)\n",
        "\n",
        "                    print(f\"{item}is available and added to ur choice\")\n",
        "                else:\n",
        "                    print(f\"{item}is not available now plz try another\")\n",
        "\n",
        "\n",
        "    def show_order(self):\n",
        "        return self.order\n",
        "    def show_menu(self):\n",
        "        return self.menu\n",
        "    def show_bill(self):\n",
        "        print(sum(self.menu[item]for item in self.order))\n",
        "\n",
        "\n",
        "\n",
        "\n"
      ]
    },
    {
      "cell_type": "code",
      "source": [
        "menu={'Birayni':130,'coffe':40,'coldcoffe':70,'fruitjuice':90,'franchfries':100,'burger':90,'chickenroast':140}"
      ],
      "metadata": {
        "id": "CkHBVAa7dRez"
      },
      "execution_count": 64,
      "outputs": []
    },
    {
      "cell_type": "code",
      "source": [
        "a=cafe(menu)"
      ],
      "metadata": {
        "id": "ox2siZRsikty"
      },
      "execution_count": 65,
      "outputs": []
    },
    {
      "cell_type": "code",
      "source": [
        "a.get_order()\n"
      ],
      "metadata": {
        "colab": {
          "base_uri": "https://localhost:8080/"
        },
        "id": "0aL3vuESkTFq",
        "outputId": "5e23af9d-2306-468c-cbb7-96f5e2277a30"
      },
      "execution_count": 68,
      "outputs": [
        {
          "output_type": "stream",
          "name": "stdout",
          "text": [
            "enter your order(enter 'done'when done):coffe,Birayni\n",
            "coffeis available and added to ur choice\n",
            "Birayniis available and added to ur choice\n"
          ]
        }
      ]
    },
    {
      "cell_type": "code",
      "source": [
        "a.show_bill()"
      ],
      "metadata": {
        "colab": {
          "base_uri": "https://localhost:8080/"
        },
        "id": "3iiDG1-glZB-",
        "outputId": "f8adc28f-d1bd-4d1f-b56d-5410ef81172f"
      },
      "execution_count": 70,
      "outputs": [
        {
          "output_type": "stream",
          "name": "stdout",
          "text": [
            "210\n"
          ]
        }
      ]
    },
    {
      "cell_type": "code",
      "source": [],
      "metadata": {
        "id": "6GLUUXZqxMNW"
      },
      "execution_count": null,
      "outputs": []
    }
  ]
}
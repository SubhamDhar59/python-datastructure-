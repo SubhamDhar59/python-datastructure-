{
  "nbformat": 4,
  "nbformat_minor": 0,
  "metadata": {
    "colab": {
      "provenance": []
    },
    "kernelspec": {
      "name": "python3",
      "display_name": "Python 3"
    },
    "language_info": {
      "name": "python"
    }
  },
  "cells": [
    {
      "cell_type": "code",
      "execution_count": null,
      "metadata": {
        "id": "HWKjPvdLTVIu",
        "colab": {
          "base_uri": "https://localhost:8080/"
        },
        "outputId": "0985ef13-cf4c-4459-da2e-bc559fad2a1a"
      },
      "outputs": [
        {
          "output_type": "stream",
          "name": "stdout",
          "text": [
            "hwllo\n",
            "\n",
            "hlo,wrd\n"
          ]
        }
      ],
      "source": [
        "#1. String Slicing\n",
        "\n",
        "#String slicing is a technique to extract a portion of a string.\n",
        "\n",
        "#we can  use the [start:stop:step] syntax to slice.\n",
        "#start is the index of the first character you want (inclusive).\n",
        "#stop is the index of the character you want to stop at (exclusive).\n",
        "#step is how many characters to jump between each extraction.\n",
        "\n",
        "#eg:\n",
        "text=\"hwllow, world\"\n",
        "print(text[0:5])\n",
        "print(text[7:1])\n",
        "print(text[::2])"
      ]
    },
    {
      "cell_type": "code",
      "source": [
        "2.# Key Features of Lists\n",
        "\n",
        "#Ordered: Elements in a list maintain the order in which you insert them.\n",
        "#Mutable: You can change the contents of a list after it's created.\n",
        "#Heterogeneous: Lists can hold a mix of different data types (e.g., numbers, strings, other lists)."
      ],
      "metadata": {
        "colab": {
          "base_uri": "https://localhost:8080/"
        },
        "id": "ynCxd-ejVhnn",
        "outputId": "b8e5e524-2a58-48a9-9c82-6581d6438ecd"
      },
      "execution_count": null,
      "outputs": [
        {
          "output_type": "execute_result",
          "data": {
            "text/plain": [
              "2.0"
            ]
          },
          "metadata": {},
          "execution_count": 5
        }
      ]
    },
    {
      "cell_type": "code",
      "source": [
        "3.# Accessing, Modifying, and Deleting List Elements\n",
        "\n",
        "my_list=[10,20,30]\n",
        "print(my_list[1])\n",
        "my_list[1]=25 #modifying\n",
        "print(my_list)\n"
      ],
      "metadata": {
        "colab": {
          "base_uri": "https://localhost:8080/"
        },
        "id": "IXpJ4PsDV847",
        "outputId": "97ed2ee0-d11d-4924-8a81-ac6454f93fae"
      },
      "execution_count": null,
      "outputs": [
        {
          "output_type": "stream",
          "name": "stdout",
          "text": [
            "20\n",
            "[10, 25, 30]\n"
          ]
        }
      ]
    },
    {
      "cell_type": "code",
      "source": [
        "# To delete elements, we  can use del or remove():\n",
        "my_list=[10,23,45,67]\n",
        "del my_list[0] #deleting by index\n",
        "my_list.remove(23)#deleting by value\n",
        "print(my_list)"
      ],
      "metadata": {
        "colab": {
          "base_uri": "https://localhost:8080/"
        },
        "id": "7hef8oHtZ82p",
        "outputId": "a4d98bec-7695-45dc-b955-b33163c1ac25"
      },
      "execution_count": null,
      "outputs": [
        {
          "output_type": "stream",
          "name": "stdout",
          "text": [
            "[45, 67]\n"
          ]
        }
      ]
    },
    {
      "cell_type": "code",
      "source": [
        "4.# Tuples vs. Lists\n",
        "\n",
        "#Tuples are ordered and immutable (cannot be changed after creation). Use parentheses ().\n",
        "#Lists are ordered and mutable. Use square brackets []."
      ],
      "metadata": {
        "colab": {
          "base_uri": "https://localhost:8080/"
        },
        "id": "fKkeTf-ca9a0",
        "outputId": "a88116f1-324b-4de7-ecdb-25357e448bd0"
      },
      "execution_count": null,
      "outputs": [
        {
          "output_type": "execute_result",
          "data": {
            "text/plain": [
              "4.0"
            ]
          },
          "metadata": {},
          "execution_count": 13
        }
      ]
    },
    {
      "cell_type": "code",
      "source": [
        "#6. Use Cases of Tuples and Sets\n",
        "\n",
        "#Tuples: When you want to store a collection of items that shouldn't change (e.g., coordinates, database records).\n",
        "#Sets: Useful for removing duplicates from a collection or checking for membership."
      ],
      "metadata": {
        "id": "0_uSUd4ZcQ_K"
      },
      "execution_count": null,
      "outputs": []
    },
    {
      "cell_type": "code",
      "source": [
        "#7. Adding/Modifying Sets\n",
        "\n",
        "#Use add() to add elements.\n",
        "#Use remove() or discard() to remove elements.\n",
        "\n",
        "my_set={1,2,3,4}\n",
        "my_set.add(9)\n",
        "my_set.remove(4)\n",
        "my_set.discard(3)"
      ],
      "metadata": {
        "id": "Ua44Mwe_cz5A"
      },
      "execution_count": null,
      "outputs": []
    },
    {
      "cell_type": "code",
      "source": [],
      "metadata": {
        "id": "pDgCW1gLc9fR"
      },
      "execution_count": null,
      "outputs": []
    }
  ]
}